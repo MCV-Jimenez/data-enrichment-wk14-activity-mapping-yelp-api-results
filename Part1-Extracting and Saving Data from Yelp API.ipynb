{
 "cells": [
  {
   "cell_type": "markdown",
   "metadata": {
    "id": "8guYh-VR7nlX"
   },
   "source": [
    "# Part 1 - Extracting and Saving Data from Yelp API"
   ]
  },
  {
   "cell_type": "markdown",
   "metadata": {},
   "source": [
    "## Obective"
   ]
  },
  {
   "cell_type": "markdown",
   "metadata": {
    "id": "8guYh-VR7nlX"
   },
   "source": [
    "- For this CodeAlong, we will be working with the Yelp API. \n",
    "- You will use the the Yelp API to search your home town for a cuisine type of your choice.\n",
    "- Next class, we will then use Plotly Express to create a map with the Mapbox API to visualize the results.\n",
    "    \n",
    "    "
   ]
  },
  {
   "cell_type": "markdown",
   "metadata": {
    "id": "8guYh-VR7nlX"
   },
   "source": [
    "## Tools You Will Use\n",
    "- Part 1:\n",
    "    - Yelp API:\n",
    "        - Getting Started: \n",
    "            - https://www.yelp.com/developers/documentation/v3/get_started\n",
    "\n",
    "    - `YelpAPI` python package\n",
    "        -  \"YelpAPI\": https://github.com/gfairchild/yelpapi\n",
    "- Part 2:\n",
    "\n",
    "    - Plotly Express: https://plotly.com/python/getting-started/\n",
    "        - With Mapbox API: https://www.mapbox.com/\n",
    "        - `px.scatter_mapbox` [Documentation](https://plotly.com/python/scattermapbox/): \n",
    "\n",
    "\n"
   ]
  },
  {
   "cell_type": "markdown",
   "metadata": {},
   "source": [
    "### Applying Code From\n",
    "- Efficient API Calls Lesson Link: https://login.codingdojo.com/m/376/12529/88078"
   ]
  },
  {
   "cell_type": "code",
   "execution_count": 154,
   "metadata": {},
   "outputs": [
    {
     "name": "stdout",
     "output_type": "stream",
     "text": [
      "Requirement already satisfied: tqdm in c:\\users\\lp-ca\\anaconda3\\envs\\dojo-env\\lib\\site-packages (4.64.0)\n",
      "Requirement already satisfied: colorama in c:\\users\\lp-ca\\anaconda3\\envs\\dojo-env\\lib\\site-packages (from tqdm) (0.4.4)\n"
     ]
    }
   ],
   "source": [
    "!pip install tqdm"
   ]
  },
  {
   "cell_type": "code",
   "execution_count": 155,
   "metadata": {},
   "outputs": [],
   "source": [
    "# Standard Imports\n",
    "import numpy as np\n",
    "import pandas as pd\n",
    "import matplotlib.pyplot as plt\n",
    "import seaborn as sns\n",
    "\n",
    "# Additional Imports\n",
    "import os, json, math, time\n",
    "from yelpapi import YelpAPI\n",
    "from tqdm.notebook import tqdm_notebook"
   ]
  },
  {
   "cell_type": "markdown",
   "metadata": {
    "id": "1l3Z-79nBSX9"
   },
   "source": [
    "## 1. Registering for Required APIs"
   ]
  },
  {
   "cell_type": "markdown",
   "metadata": {
    "id": "1l3Z-79nBSX9"
   },
   "source": [
    "\n",
    "- Yelp: https://www.yelp.com/developers/documentation/v3/get_started\n"
   ]
  },
  {
   "cell_type": "markdown",
   "metadata": {},
   "source": [
    "> Check the official API documentation to know what arguments we can search for: https://www.yelp.com/developers/documentation/v3/business_search"
   ]
  },
  {
   "cell_type": "markdown",
   "metadata": {},
   "source": [
    "### Load Credentials and Create Yelp API Object"
   ]
  },
  {
   "cell_type": "code",
   "execution_count": 156,
   "metadata": {
    "ExecuteTime": {
     "end_time": "2022-03-25T18:20:46.629934Z",
     "start_time": "2022-03-25T18:20:45.915864Z"
    },
    "colab": {
     "base_uri": "https://localhost:8080/"
    },
    "id": "xJYqVvNkE36a",
    "outputId": "67798160-dea2-41fc-9040-2b3833efa560"
   },
   "outputs": [
    {
     "data": {
      "text/plain": [
       "dict_keys(['client id', 'API key'])"
      ]
     },
     "execution_count": 156,
     "metadata": {},
     "output_type": "execute_result"
    }
   ],
   "source": [
    "# Load API Credentials\n",
    "with open('/Users/LP-Ca/.secret/yelp_api.json') as f:\n",
    "    creds = json.load(f)\n",
    "creds.keys()"
   ]
  },
  {
   "cell_type": "code",
   "execution_count": 157,
   "metadata": {},
   "outputs": [
    {
     "data": {
      "text/plain": [
       "<yelpapi.yelpapi.YelpAPI at 0x199eeb13b88>"
      ]
     },
     "execution_count": 157,
     "metadata": {},
     "output_type": "execute_result"
    }
   ],
   "source": [
    "# Instantiate YelpAPI Variable\n",
    "yelp = YelpAPI(creds['API key'])\n",
    "yelp"
   ]
  },
  {
   "cell_type": "markdown",
   "metadata": {},
   "source": [
    "### Define Search Terms and File Paths"
   ]
  },
  {
   "cell_type": "code",
   "execution_count": 158,
   "metadata": {},
   "outputs": [],
   "source": [
    "# set our API call parameters and filename before the first call\n",
    "LOCATION = \"Pawcatuck, CT 06379\"\n",
    "TERM = \"Burgers\""
   ]
  },
  {
   "cell_type": "code",
   "execution_count": 181,
   "metadata": {},
   "outputs": [
    {
     "data": {
      "text/plain": [
       "'Data/Pawcatuck-Burgers.json'"
      ]
     },
     "execution_count": 181,
     "metadata": {},
     "output_type": "execute_result"
    }
   ],
   "source": [
    "## Specify folder for saving data\n",
    "FOLDER = \"Data/\"\n",
    "os.makedirs(FOLDER, exist_ok=True)\n",
    "# Specifying JSON_FILE filename (can include a folder)\n",
    "JSON_FILE = FOLDER + f\"{LOCATION.split(',')[0]}-{TERM}.json\"\n",
    "JSON_FILE"
   ]
  },
  {
   "cell_type": "markdown",
   "metadata": {},
   "source": [
    "### Check if Json File exists and Create it if it doesn't"
   ]
  },
  {
   "cell_type": "markdown",
   "metadata": {},
   "source": [
    "### Make the first API call to get the first page of data"
   ]
  },
  {
   "cell_type": "markdown",
   "metadata": {},
   "source": [
    "- We will use this first result to check:\n",
    "    - how many total results there are?\n",
    "    - Where is the actual data we want to save?\n",
    "    - how many results do we get at a time?\n"
   ]
  },
  {
   "cell_type": "code",
   "execution_count": 160,
   "metadata": {},
   "outputs": [
    {
     "data": {
      "text/plain": [
       "dict"
      ]
     },
     "execution_count": 160,
     "metadata": {},
     "output_type": "execute_result"
    }
   ],
   "source": [
    "# use our yelp_api variable's search_query method to perform our API call\n",
    "results = yelp.search_query(term=TERM, location=LOCATION)\n",
    "type(results)"
   ]
  },
  {
   "cell_type": "code",
   "execution_count": 161,
   "metadata": {
    "scrolled": true
   },
   "outputs": [
    {
     "data": {
      "text/plain": [
       "dict_keys(['businesses', 'total', 'region'])"
      ]
     },
     "execution_count": 161,
     "metadata": {},
     "output_type": "execute_result"
    }
   ],
   "source": [
    "results.keys()"
   ]
  },
  {
   "cell_type": "code",
   "execution_count": 162,
   "metadata": {},
   "outputs": [
    {
     "data": {
      "text/plain": [
       "list"
      ]
     },
     "execution_count": 162,
     "metadata": {},
     "output_type": "execute_result"
    }
   ],
   "source": [
    " type(results['businesses'])"
   ]
  },
  {
   "cell_type": "code",
   "execution_count": 163,
   "metadata": {},
   "outputs": [
    {
     "data": {
      "text/plain": [
       "20"
      ]
     },
     "execution_count": 163,
     "metadata": {},
     "output_type": "execute_result"
    }
   ],
   "source": [
    "len(results['businesses'])"
   ]
  },
  {
   "cell_type": "code",
   "execution_count": 164,
   "metadata": {},
   "outputs": [
    {
     "data": {
      "text/plain": [
       "29"
      ]
     },
     "execution_count": 164,
     "metadata": {},
     "output_type": "execute_result"
    }
   ],
   "source": [
    "results['total']"
   ]
  },
  {
   "cell_type": "code",
   "execution_count": 165,
   "metadata": {},
   "outputs": [
    {
     "data": {
      "text/html": [
       "<div>\n",
       "<style scoped>\n",
       "    .dataframe tbody tr th:only-of-type {\n",
       "        vertical-align: middle;\n",
       "    }\n",
       "\n",
       "    .dataframe tbody tr th {\n",
       "        vertical-align: top;\n",
       "    }\n",
       "\n",
       "    .dataframe thead th {\n",
       "        text-align: right;\n",
       "    }\n",
       "</style>\n",
       "<table border=\"1\" class=\"dataframe\">\n",
       "  <thead>\n",
       "    <tr style=\"text-align: right;\">\n",
       "      <th></th>\n",
       "      <th>id</th>\n",
       "      <th>alias</th>\n",
       "      <th>name</th>\n",
       "      <th>image_url</th>\n",
       "      <th>is_closed</th>\n",
       "      <th>url</th>\n",
       "      <th>review_count</th>\n",
       "      <th>categories</th>\n",
       "      <th>rating</th>\n",
       "      <th>coordinates</th>\n",
       "      <th>transactions</th>\n",
       "      <th>price</th>\n",
       "      <th>location</th>\n",
       "      <th>phone</th>\n",
       "      <th>display_phone</th>\n",
       "      <th>distance</th>\n",
       "    </tr>\n",
       "  </thead>\n",
       "  <tbody>\n",
       "    <tr>\n",
       "      <th>0</th>\n",
       "      <td>sODdKPCWnkYxQ9BxP0aNGw</td>\n",
       "      <td>b-and-b-dockside-westerly-2</td>\n",
       "      <td>B &amp; B Dockside</td>\n",
       "      <td>https://s3-media1.fl.yelpcdn.com/bphoto/jpeD0p...</td>\n",
       "      <td>False</td>\n",
       "      <td>https://www.yelp.com/biz/b-and-b-dockside-west...</td>\n",
       "      <td>136</td>\n",
       "      <td>[{'alias': 'burgers', 'title': 'Burgers'}, {'a...</td>\n",
       "      <td>4.5</td>\n",
       "      <td>{'latitude': 41.3670539855957, 'longitude': -7...</td>\n",
       "      <td>[delivery]</td>\n",
       "      <td>$$</td>\n",
       "      <td>{'address1': '19 Margin St', 'address2': '', '...</td>\n",
       "      <td>+14013152520</td>\n",
       "      <td>(401) 315-2520</td>\n",
       "      <td>1722.989668</td>\n",
       "    </tr>\n",
       "    <tr>\n",
       "      <th>1</th>\n",
       "      <td>SEUBkQCAhdkKRUjXUdVO2w</td>\n",
       "      <td>graze-burgers-westerly</td>\n",
       "      <td>Graze Burgers</td>\n",
       "      <td>https://s3-media3.fl.yelpcdn.com/bphoto/1XCzJ6...</td>\n",
       "      <td>False</td>\n",
       "      <td>https://www.yelp.com/biz/graze-burgers-westerl...</td>\n",
       "      <td>111</td>\n",
       "      <td>[{'alias': 'burgers', 'title': 'Burgers'}, {'a...</td>\n",
       "      <td>3.5</td>\n",
       "      <td>{'latitude': 41.37068576556191, 'longitude': -...</td>\n",
       "      <td>[delivery]</td>\n",
       "      <td>NaN</td>\n",
       "      <td>{'address1': '127 Granite St', 'address2': Non...</td>\n",
       "      <td>+14019928223</td>\n",
       "      <td>(401) 992-8223</td>\n",
       "      <td>2575.705237</td>\n",
       "    </tr>\n",
       "    <tr>\n",
       "      <th>2</th>\n",
       "      <td>ydxhFI0FRgLjhex8pNC5Iw</td>\n",
       "      <td>the-malted-barley-westerly</td>\n",
       "      <td>The Malted Barley</td>\n",
       "      <td>https://s3-media1.fl.yelpcdn.com/bphoto/00N8ZI...</td>\n",
       "      <td>False</td>\n",
       "      <td>https://www.yelp.com/biz/the-malted-barley-wes...</td>\n",
       "      <td>299</td>\n",
       "      <td>[{'alias': 'bars', 'title': 'Bars'}, {'alias':...</td>\n",
       "      <td>4.5</td>\n",
       "      <td>{'latitude': 41.3788, 'longitude': -71.8303}</td>\n",
       "      <td>[delivery, pickup]</td>\n",
       "      <td>$$</td>\n",
       "      <td>{'address1': '42 High St', 'address2': None, '...</td>\n",
       "      <td>+14013152184</td>\n",
       "      <td>(401) 315-2184</td>\n",
       "      <td>1645.153838</td>\n",
       "    </tr>\n",
       "    <tr>\n",
       "      <th>3</th>\n",
       "      <td>8gXaeFOak_To2t2xvtWUQw</td>\n",
       "      <td>the-shallows-westerly</td>\n",
       "      <td>The Shallows</td>\n",
       "      <td>https://s3-media3.fl.yelpcdn.com/bphoto/WzE-Br...</td>\n",
       "      <td>False</td>\n",
       "      <td>https://www.yelp.com/biz/the-shallows-westerly...</td>\n",
       "      <td>58</td>\n",
       "      <td>[{'alias': 'newamerican', 'title': 'American (...</td>\n",
       "      <td>4.5</td>\n",
       "      <td>{'latitude': 41.379296, 'longitude': -71.830527}</td>\n",
       "      <td>[delivery]</td>\n",
       "      <td>$$</td>\n",
       "      <td>{'address1': '54 High St', 'address2': '', 'ad...</td>\n",
       "      <td>+14013155737</td>\n",
       "      <td>(401) 315-5737</td>\n",
       "      <td>1631.203716</td>\n",
       "    </tr>\n",
       "    <tr>\n",
       "      <th>4</th>\n",
       "      <td>AxGW4itHJXGh8oqZVsjRug</td>\n",
       "      <td>bridge-restaurant-westerly</td>\n",
       "      <td>Bridge Restaurant [Raw Bar] River Patio</td>\n",
       "      <td>https://s3-media1.fl.yelpcdn.com/bphoto/6bCQn4...</td>\n",
       "      <td>False</td>\n",
       "      <td>https://www.yelp.com/biz/bridge-restaurant-wes...</td>\n",
       "      <td>385</td>\n",
       "      <td>[{'alias': 'newamerican', 'title': 'American (...</td>\n",
       "      <td>3.5</td>\n",
       "      <td>{'latitude': 41.376973, 'longitude': -71.831896}</td>\n",
       "      <td>[delivery]</td>\n",
       "      <td>$$</td>\n",
       "      <td>{'address1': '37 Main St', 'address2': '', 'ad...</td>\n",
       "      <td>+14013489700</td>\n",
       "      <td>(401) 348-9700</td>\n",
       "      <td>1502.652791</td>\n",
       "    </tr>\n",
       "    <tr>\n",
       "      <th>5</th>\n",
       "      <td>QiQbsj7umDOd_jXgGYmLIQ</td>\n",
       "      <td>surf-cantina-westerly</td>\n",
       "      <td>Surf cantina</td>\n",
       "      <td>https://s3-media2.fl.yelpcdn.com/bphoto/DJ3JVy...</td>\n",
       "      <td>False</td>\n",
       "      <td>https://www.yelp.com/biz/surf-cantina-westerly...</td>\n",
       "      <td>34</td>\n",
       "      <td>[{'alias': 'tacos', 'title': 'Tacos'}, {'alias...</td>\n",
       "      <td>4.0</td>\n",
       "      <td>{'latitude': 41.38028082416941, 'longitude': -...</td>\n",
       "      <td>[]</td>\n",
       "      <td>$$</td>\n",
       "      <td>{'address1': '15 Canal St', 'address2': '', 'a...</td>\n",
       "      <td>+14013888626</td>\n",
       "      <td>(401) 388-8626</td>\n",
       "      <td>1696.661533</td>\n",
       "    </tr>\n",
       "    <tr>\n",
       "      <th>6</th>\n",
       "      <td>Ck4wvlxKt0lF4-6SyP0SpA</td>\n",
       "      <td>back-track-bar-and-grill-westerly</td>\n",
       "      <td>Back Track Bar &amp; Grill</td>\n",
       "      <td>https://s3-media3.fl.yelpcdn.com/bphoto/7s2oD2...</td>\n",
       "      <td>False</td>\n",
       "      <td>https://www.yelp.com/biz/back-track-bar-and-gr...</td>\n",
       "      <td>4</td>\n",
       "      <td>[{'alias': 'breakfast_brunch', 'title': 'Break...</td>\n",
       "      <td>4.5</td>\n",
       "      <td>{'latitude': 41.38224759078481, 'longitude': -...</td>\n",
       "      <td>[delivery]</td>\n",
       "      <td>NaN</td>\n",
       "      <td>{'address1': '13 Industrial Dr', 'address2': N...</td>\n",
       "      <td>+14013480150</td>\n",
       "      <td>(401) 348-0150</td>\n",
       "      <td>1681.655927</td>\n",
       "    </tr>\n",
       "    <tr>\n",
       "      <th>7</th>\n",
       "      <td>9yXbtKS_pszWG4SnKZpxnw</td>\n",
       "      <td>mias-cafe-pawcatuck-5</td>\n",
       "      <td>Mia's Cafe</td>\n",
       "      <td>https://s3-media2.fl.yelpcdn.com/bphoto/NklrHg...</td>\n",
       "      <td>False</td>\n",
       "      <td>https://www.yelp.com/biz/mias-cafe-pawcatuck-5...</td>\n",
       "      <td>182</td>\n",
       "      <td>[{'alias': 'breakfast_brunch', 'title': 'Break...</td>\n",
       "      <td>4.0</td>\n",
       "      <td>{'latitude': 41.3774172, 'longitude': -71.8331...</td>\n",
       "      <td>[delivery, pickup]</td>\n",
       "      <td>$$</td>\n",
       "      <td>{'address1': '1 W Broad St', 'address2': '', '...</td>\n",
       "      <td>+18605993840</td>\n",
       "      <td>(860) 599-3840</td>\n",
       "      <td>1398.694610</td>\n",
       "    </tr>\n",
       "    <tr>\n",
       "      <th>8</th>\n",
       "      <td>_qQD9hSPFhTgzRd4X0Kvhg</td>\n",
       "      <td>cc-o-briens-sports-cafe-pawcatuck</td>\n",
       "      <td>CC O'Brien's Sports Cafe</td>\n",
       "      <td>https://s3-media2.fl.yelpcdn.com/bphoto/GHM1xT...</td>\n",
       "      <td>False</td>\n",
       "      <td>https://www.yelp.com/biz/cc-o-briens-sports-ca...</td>\n",
       "      <td>50</td>\n",
       "      <td>[{'alias': 'newamerican', 'title': 'American (...</td>\n",
       "      <td>4.0</td>\n",
       "      <td>{'latitude': 41.3768699, 'longitude': -71.83311}</td>\n",
       "      <td>[delivery]</td>\n",
       "      <td>$$</td>\n",
       "      <td>{'address1': '8 Mechanic St', 'address2': '', ...</td>\n",
       "      <td>+18605992034</td>\n",
       "      <td>(860) 599-2034</td>\n",
       "      <td>1400.935649</td>\n",
       "    </tr>\n",
       "    <tr>\n",
       "      <th>9</th>\n",
       "      <td>2mRTVwcBuwKsXASmL4kokw</td>\n",
       "      <td>brazen-hen-westerly</td>\n",
       "      <td>Brazen Hen</td>\n",
       "      <td>https://s3-media3.fl.yelpcdn.com/bphoto/PzstG2...</td>\n",
       "      <td>False</td>\n",
       "      <td>https://www.yelp.com/biz/brazen-hen-westerly?a...</td>\n",
       "      <td>110</td>\n",
       "      <td>[{'alias': 'irish', 'title': 'Irish'}, {'alias...</td>\n",
       "      <td>3.5</td>\n",
       "      <td>{'latitude': 41.37968, 'longitude': -71.83035}</td>\n",
       "      <td>[delivery, pickup]</td>\n",
       "      <td>$$</td>\n",
       "      <td>{'address1': '4 Canal St', 'address2': '', 'ad...</td>\n",
       "      <td>+14013488100</td>\n",
       "      <td>(401) 348-8100</td>\n",
       "      <td>1677.713257</td>\n",
       "    </tr>\n",
       "    <tr>\n",
       "      <th>10</th>\n",
       "      <td>nW3R-163mrio7zxBLL2dAA</td>\n",
       "      <td>kelleys-deli-westerly</td>\n",
       "      <td>Kelley's Deli</td>\n",
       "      <td>https://s3-media4.fl.yelpcdn.com/bphoto/pBjDrP...</td>\n",
       "      <td>False</td>\n",
       "      <td>https://www.yelp.com/biz/kelleys-deli-westerly...</td>\n",
       "      <td>67</td>\n",
       "      <td>[{'alias': 'diners', 'title': 'Diners'}, {'ali...</td>\n",
       "      <td>4.5</td>\n",
       "      <td>{'latitude': 41.3721986185733, 'longitude': -7...</td>\n",
       "      <td>[delivery]</td>\n",
       "      <td>$</td>\n",
       "      <td>{'address1': '116 Granite St', 'address2': '',...</td>\n",
       "      <td>+14015969896</td>\n",
       "      <td>(401) 596-9896</td>\n",
       "      <td>2552.675390</td>\n",
       "    </tr>\n",
       "    <tr>\n",
       "      <th>11</th>\n",
       "      <td>_iYvpGfCwqMa3iMMIypT1Q</td>\n",
       "      <td>supreme-cheese-pizzeria-and-ristorante-westerly-2</td>\n",
       "      <td>Supreme Cheese Pizzeria &amp; Ristorante</td>\n",
       "      <td>https://s3-media4.fl.yelpcdn.com/bphoto/22yh-8...</td>\n",
       "      <td>False</td>\n",
       "      <td>https://www.yelp.com/biz/supreme-cheese-pizzer...</td>\n",
       "      <td>44</td>\n",
       "      <td>[{'alias': 'pizza', 'title': 'Pizza'}, {'alias...</td>\n",
       "      <td>3.5</td>\n",
       "      <td>{'latitude': 41.36834, 'longitude': -71.81974}</td>\n",
       "      <td>[delivery]</td>\n",
       "      <td>$$</td>\n",
       "      <td>{'address1': '157 Granite St', 'address2': '',...</td>\n",
       "      <td>+14015961001</td>\n",
       "      <td>(401) 596-1001</td>\n",
       "      <td>2702.987120</td>\n",
       "    </tr>\n",
       "    <tr>\n",
       "      <th>12</th>\n",
       "      <td>QStnq1AlCW_TlL0nN9dZdw</td>\n",
       "      <td>noodle-revolution-westerly</td>\n",
       "      <td>Noodle Revolution</td>\n",
       "      <td>https://s3-media2.fl.yelpcdn.com/bphoto/s2mOsV...</td>\n",
       "      <td>False</td>\n",
       "      <td>https://www.yelp.com/biz/noodle-revolution-wes...</td>\n",
       "      <td>217</td>\n",
       "      <td>[{'alias': 'asianfusion', 'title': 'Asian Fusi...</td>\n",
       "      <td>4.5</td>\n",
       "      <td>{'latitude': 41.3835192242632, 'longitude': -7...</td>\n",
       "      <td>[delivery]</td>\n",
       "      <td>$$</td>\n",
       "      <td>{'address1': '87 Oak St', 'address2': '', 'add...</td>\n",
       "      <td>+14015969559</td>\n",
       "      <td>(401) 596-9559</td>\n",
       "      <td>2960.902625</td>\n",
       "    </tr>\n",
       "    <tr>\n",
       "      <th>13</th>\n",
       "      <td>rv9xUekrM2_d_pwwWuImfw</td>\n",
       "      <td>amigos-taqueria-y-tequila-westerly</td>\n",
       "      <td>Amigos Taqueria Y Tequila</td>\n",
       "      <td>https://s3-media2.fl.yelpcdn.com/bphoto/Ffe2D9...</td>\n",
       "      <td>False</td>\n",
       "      <td>https://www.yelp.com/biz/amigos-taqueria-y-teq...</td>\n",
       "      <td>201</td>\n",
       "      <td>[{'alias': 'mexican', 'title': 'Mexican'}, {'a...</td>\n",
       "      <td>3.5</td>\n",
       "      <td>{'latitude': 41.379608, 'longitude': -71.830005}</td>\n",
       "      <td>[delivery]</td>\n",
       "      <td>$$</td>\n",
       "      <td>{'address1': '2 Canal St', 'address2': '', 'ad...</td>\n",
       "      <td>+14013155800</td>\n",
       "      <td>(401) 315-5800</td>\n",
       "      <td>1679.269915</td>\n",
       "    </tr>\n",
       "    <tr>\n",
       "      <th>14</th>\n",
       "      <td>Cc6mlkFThEqN3ktHxXZ3SQ</td>\n",
       "      <td>guytannos-international-restaurant-westerly</td>\n",
       "      <td>Guytanno's International Restaurant</td>\n",
       "      <td>https://s3-media2.fl.yelpcdn.com/bphoto/NYvnz3...</td>\n",
       "      <td>False</td>\n",
       "      <td>https://www.yelp.com/biz/guytannos-internation...</td>\n",
       "      <td>87</td>\n",
       "      <td>[{'alias': 'italian', 'title': 'Italian'}, {'a...</td>\n",
       "      <td>4.0</td>\n",
       "      <td>{'latitude': 41.3639084, 'longitude': -71.8143...</td>\n",
       "      <td>[delivery]</td>\n",
       "      <td>$$</td>\n",
       "      <td>{'address1': '62 Franklin St', 'address2': '',...</td>\n",
       "      <td>+14013486221</td>\n",
       "      <td>(401) 348-6221</td>\n",
       "      <td>3321.787950</td>\n",
       "    </tr>\n",
       "    <tr>\n",
       "      <th>15</th>\n",
       "      <td>Gqz371I8-toOQmm9MPTerQ</td>\n",
       "      <td>the-café-westerly-3</td>\n",
       "      <td>The Café</td>\n",
       "      <td>https://s3-media3.fl.yelpcdn.com/bphoto/MouFMQ...</td>\n",
       "      <td>False</td>\n",
       "      <td>https://www.yelp.com/biz/the-caf%C3%A9-westerl...</td>\n",
       "      <td>10</td>\n",
       "      <td>[{'alias': 'cocktailbars', 'title': 'Cocktail ...</td>\n",
       "      <td>4.5</td>\n",
       "      <td>{'latitude': 41.37975, 'longitude': -71.82959}</td>\n",
       "      <td>[]</td>\n",
       "      <td>NaN</td>\n",
       "      <td>{'address1': '3 Canal St', 'address2': None, '...</td>\n",
       "      <td>+14013570300</td>\n",
       "      <td>(401) 357-0300</td>\n",
       "      <td>1721.957051</td>\n",
       "    </tr>\n",
       "    <tr>\n",
       "      <th>16</th>\n",
       "      <td>CLOJF8y35VDcUbSQI3rF0A</td>\n",
       "      <td>pizza-vita-westerly</td>\n",
       "      <td>Pizza Vita</td>\n",
       "      <td>https://s3-media1.fl.yelpcdn.com/bphoto/TLQZb3...</td>\n",
       "      <td>False</td>\n",
       "      <td>https://www.yelp.com/biz/pizza-vita-westerly?a...</td>\n",
       "      <td>28</td>\n",
       "      <td>[{'alias': 'pizza', 'title': 'Pizza'}, {'alias...</td>\n",
       "      <td>4.0</td>\n",
       "      <td>{'latitude': 41.364714, 'longitude': -71.830466}</td>\n",
       "      <td>[delivery, pickup]</td>\n",
       "      <td>$$</td>\n",
       "      <td>{'address1': '55 Beach St', 'address2': 'Ste 1...</td>\n",
       "      <td>+14013487036</td>\n",
       "      <td>(401) 348-7036</td>\n",
       "      <td>2143.543494</td>\n",
       "    </tr>\n",
       "    <tr>\n",
       "      <th>17</th>\n",
       "      <td>26U8C28ua0v_LEs2oIGtJg</td>\n",
       "      <td>the-bone-station-westerly</td>\n",
       "      <td>The Bone Station</td>\n",
       "      <td></td>\n",
       "      <td>False</td>\n",
       "      <td>https://www.yelp.com/biz/the-bone-station-west...</td>\n",
       "      <td>1</td>\n",
       "      <td>[{'alias': 'burgers', 'title': 'Burgers'}, {'a...</td>\n",
       "      <td>3.0</td>\n",
       "      <td>{'latitude': 41.380903, 'longitude': -71.829208}</td>\n",
       "      <td>[delivery, pickup]</td>\n",
       "      <td>NaN</td>\n",
       "      <td>{'address1': '23 Railroad Ave', 'address2': No...</td>\n",
       "      <td>+14016806221</td>\n",
       "      <td>(401) 680-6221</td>\n",
       "      <td>1770.828390</td>\n",
       "    </tr>\n",
       "    <tr>\n",
       "      <th>18</th>\n",
       "      <td>epe0IxYIIMPwlwlq6WYYdg</td>\n",
       "      <td>dairy-queen-pawcatuck</td>\n",
       "      <td>Dairy Queen</td>\n",
       "      <td>https://s3-media3.fl.yelpcdn.com/bphoto/Sg5aq6...</td>\n",
       "      <td>False</td>\n",
       "      <td>https://www.yelp.com/biz/dairy-queen-pawcatuck...</td>\n",
       "      <td>14</td>\n",
       "      <td>[{'alias': 'icecream', 'title': 'Ice Cream &amp; F...</td>\n",
       "      <td>4.0</td>\n",
       "      <td>{'latitude': 41.378394, 'longitude': -71.834768}</td>\n",
       "      <td>[delivery]</td>\n",
       "      <td>$</td>\n",
       "      <td>{'address1': '22 Liberty St', 'address2': '', ...</td>\n",
       "      <td>+18605993380</td>\n",
       "      <td>(860) 599-3380</td>\n",
       "      <td>1268.133412</td>\n",
       "    </tr>\n",
       "    <tr>\n",
       "      <th>19</th>\n",
       "      <td>37mieC3J4TfBN9V9PP8Weg</td>\n",
       "      <td>ellas-fine-food-and-drink-westerly</td>\n",
       "      <td>Ella's Fine Food &amp; Drink</td>\n",
       "      <td>https://s3-media3.fl.yelpcdn.com/bphoto/x_zUcV...</td>\n",
       "      <td>False</td>\n",
       "      <td>https://www.yelp.com/biz/ellas-fine-food-and-d...</td>\n",
       "      <td>199</td>\n",
       "      <td>[{'alias': 'french', 'title': 'French'}, {'ali...</td>\n",
       "      <td>4.0</td>\n",
       "      <td>{'latitude': 41.37424, 'longitude': -71.82034}</td>\n",
       "      <td>[delivery]</td>\n",
       "      <td>$$$</td>\n",
       "      <td>{'address1': '2 Tower St', 'address2': None, '...</td>\n",
       "      <td>+14013150606</td>\n",
       "      <td>(401) 315-0606</td>\n",
       "      <td>2485.651513</td>\n",
       "    </tr>\n",
       "  </tbody>\n",
       "</table>\n",
       "</div>"
      ],
      "text/plain": [
       "                        id                                              alias  \\\n",
       "0   sODdKPCWnkYxQ9BxP0aNGw                        b-and-b-dockside-westerly-2   \n",
       "1   SEUBkQCAhdkKRUjXUdVO2w                             graze-burgers-westerly   \n",
       "2   ydxhFI0FRgLjhex8pNC5Iw                         the-malted-barley-westerly   \n",
       "3   8gXaeFOak_To2t2xvtWUQw                              the-shallows-westerly   \n",
       "4   AxGW4itHJXGh8oqZVsjRug                         bridge-restaurant-westerly   \n",
       "5   QiQbsj7umDOd_jXgGYmLIQ                              surf-cantina-westerly   \n",
       "6   Ck4wvlxKt0lF4-6SyP0SpA                  back-track-bar-and-grill-westerly   \n",
       "7   9yXbtKS_pszWG4SnKZpxnw                              mias-cafe-pawcatuck-5   \n",
       "8   _qQD9hSPFhTgzRd4X0Kvhg                  cc-o-briens-sports-cafe-pawcatuck   \n",
       "9   2mRTVwcBuwKsXASmL4kokw                                brazen-hen-westerly   \n",
       "10  nW3R-163mrio7zxBLL2dAA                              kelleys-deli-westerly   \n",
       "11  _iYvpGfCwqMa3iMMIypT1Q  supreme-cheese-pizzeria-and-ristorante-westerly-2   \n",
       "12  QStnq1AlCW_TlL0nN9dZdw                         noodle-revolution-westerly   \n",
       "13  rv9xUekrM2_d_pwwWuImfw                 amigos-taqueria-y-tequila-westerly   \n",
       "14  Cc6mlkFThEqN3ktHxXZ3SQ        guytannos-international-restaurant-westerly   \n",
       "15  Gqz371I8-toOQmm9MPTerQ                                the-café-westerly-3   \n",
       "16  CLOJF8y35VDcUbSQI3rF0A                                pizza-vita-westerly   \n",
       "17  26U8C28ua0v_LEs2oIGtJg                          the-bone-station-westerly   \n",
       "18  epe0IxYIIMPwlwlq6WYYdg                              dairy-queen-pawcatuck   \n",
       "19  37mieC3J4TfBN9V9PP8Weg                 ellas-fine-food-and-drink-westerly   \n",
       "\n",
       "                                       name  \\\n",
       "0                            B & B Dockside   \n",
       "1                             Graze Burgers   \n",
       "2                         The Malted Barley   \n",
       "3                              The Shallows   \n",
       "4   Bridge Restaurant [Raw Bar] River Patio   \n",
       "5                              Surf cantina   \n",
       "6                    Back Track Bar & Grill   \n",
       "7                                Mia's Cafe   \n",
       "8                  CC O'Brien's Sports Cafe   \n",
       "9                                Brazen Hen   \n",
       "10                            Kelley's Deli   \n",
       "11     Supreme Cheese Pizzeria & Ristorante   \n",
       "12                        Noodle Revolution   \n",
       "13                Amigos Taqueria Y Tequila   \n",
       "14      Guytanno's International Restaurant   \n",
       "15                                 The Café   \n",
       "16                               Pizza Vita   \n",
       "17                         The Bone Station   \n",
       "18                              Dairy Queen   \n",
       "19                 Ella's Fine Food & Drink   \n",
       "\n",
       "                                            image_url  is_closed  \\\n",
       "0   https://s3-media1.fl.yelpcdn.com/bphoto/jpeD0p...      False   \n",
       "1   https://s3-media3.fl.yelpcdn.com/bphoto/1XCzJ6...      False   \n",
       "2   https://s3-media1.fl.yelpcdn.com/bphoto/00N8ZI...      False   \n",
       "3   https://s3-media3.fl.yelpcdn.com/bphoto/WzE-Br...      False   \n",
       "4   https://s3-media1.fl.yelpcdn.com/bphoto/6bCQn4...      False   \n",
       "5   https://s3-media2.fl.yelpcdn.com/bphoto/DJ3JVy...      False   \n",
       "6   https://s3-media3.fl.yelpcdn.com/bphoto/7s2oD2...      False   \n",
       "7   https://s3-media2.fl.yelpcdn.com/bphoto/NklrHg...      False   \n",
       "8   https://s3-media2.fl.yelpcdn.com/bphoto/GHM1xT...      False   \n",
       "9   https://s3-media3.fl.yelpcdn.com/bphoto/PzstG2...      False   \n",
       "10  https://s3-media4.fl.yelpcdn.com/bphoto/pBjDrP...      False   \n",
       "11  https://s3-media4.fl.yelpcdn.com/bphoto/22yh-8...      False   \n",
       "12  https://s3-media2.fl.yelpcdn.com/bphoto/s2mOsV...      False   \n",
       "13  https://s3-media2.fl.yelpcdn.com/bphoto/Ffe2D9...      False   \n",
       "14  https://s3-media2.fl.yelpcdn.com/bphoto/NYvnz3...      False   \n",
       "15  https://s3-media3.fl.yelpcdn.com/bphoto/MouFMQ...      False   \n",
       "16  https://s3-media1.fl.yelpcdn.com/bphoto/TLQZb3...      False   \n",
       "17                                                         False   \n",
       "18  https://s3-media3.fl.yelpcdn.com/bphoto/Sg5aq6...      False   \n",
       "19  https://s3-media3.fl.yelpcdn.com/bphoto/x_zUcV...      False   \n",
       "\n",
       "                                                  url  review_count  \\\n",
       "0   https://www.yelp.com/biz/b-and-b-dockside-west...           136   \n",
       "1   https://www.yelp.com/biz/graze-burgers-westerl...           111   \n",
       "2   https://www.yelp.com/biz/the-malted-barley-wes...           299   \n",
       "3   https://www.yelp.com/biz/the-shallows-westerly...            58   \n",
       "4   https://www.yelp.com/biz/bridge-restaurant-wes...           385   \n",
       "5   https://www.yelp.com/biz/surf-cantina-westerly...            34   \n",
       "6   https://www.yelp.com/biz/back-track-bar-and-gr...             4   \n",
       "7   https://www.yelp.com/biz/mias-cafe-pawcatuck-5...           182   \n",
       "8   https://www.yelp.com/biz/cc-o-briens-sports-ca...            50   \n",
       "9   https://www.yelp.com/biz/brazen-hen-westerly?a...           110   \n",
       "10  https://www.yelp.com/biz/kelleys-deli-westerly...            67   \n",
       "11  https://www.yelp.com/biz/supreme-cheese-pizzer...            44   \n",
       "12  https://www.yelp.com/biz/noodle-revolution-wes...           217   \n",
       "13  https://www.yelp.com/biz/amigos-taqueria-y-teq...           201   \n",
       "14  https://www.yelp.com/biz/guytannos-internation...            87   \n",
       "15  https://www.yelp.com/biz/the-caf%C3%A9-westerl...            10   \n",
       "16  https://www.yelp.com/biz/pizza-vita-westerly?a...            28   \n",
       "17  https://www.yelp.com/biz/the-bone-station-west...             1   \n",
       "18  https://www.yelp.com/biz/dairy-queen-pawcatuck...            14   \n",
       "19  https://www.yelp.com/biz/ellas-fine-food-and-d...           199   \n",
       "\n",
       "                                           categories  rating  \\\n",
       "0   [{'alias': 'burgers', 'title': 'Burgers'}, {'a...     4.5   \n",
       "1   [{'alias': 'burgers', 'title': 'Burgers'}, {'a...     3.5   \n",
       "2   [{'alias': 'bars', 'title': 'Bars'}, {'alias':...     4.5   \n",
       "3   [{'alias': 'newamerican', 'title': 'American (...     4.5   \n",
       "4   [{'alias': 'newamerican', 'title': 'American (...     3.5   \n",
       "5   [{'alias': 'tacos', 'title': 'Tacos'}, {'alias...     4.0   \n",
       "6   [{'alias': 'breakfast_brunch', 'title': 'Break...     4.5   \n",
       "7   [{'alias': 'breakfast_brunch', 'title': 'Break...     4.0   \n",
       "8   [{'alias': 'newamerican', 'title': 'American (...     4.0   \n",
       "9   [{'alias': 'irish', 'title': 'Irish'}, {'alias...     3.5   \n",
       "10  [{'alias': 'diners', 'title': 'Diners'}, {'ali...     4.5   \n",
       "11  [{'alias': 'pizza', 'title': 'Pizza'}, {'alias...     3.5   \n",
       "12  [{'alias': 'asianfusion', 'title': 'Asian Fusi...     4.5   \n",
       "13  [{'alias': 'mexican', 'title': 'Mexican'}, {'a...     3.5   \n",
       "14  [{'alias': 'italian', 'title': 'Italian'}, {'a...     4.0   \n",
       "15  [{'alias': 'cocktailbars', 'title': 'Cocktail ...     4.5   \n",
       "16  [{'alias': 'pizza', 'title': 'Pizza'}, {'alias...     4.0   \n",
       "17  [{'alias': 'burgers', 'title': 'Burgers'}, {'a...     3.0   \n",
       "18  [{'alias': 'icecream', 'title': 'Ice Cream & F...     4.0   \n",
       "19  [{'alias': 'french', 'title': 'French'}, {'ali...     4.0   \n",
       "\n",
       "                                          coordinates        transactions  \\\n",
       "0   {'latitude': 41.3670539855957, 'longitude': -7...          [delivery]   \n",
       "1   {'latitude': 41.37068576556191, 'longitude': -...          [delivery]   \n",
       "2        {'latitude': 41.3788, 'longitude': -71.8303}  [delivery, pickup]   \n",
       "3    {'latitude': 41.379296, 'longitude': -71.830527}          [delivery]   \n",
       "4    {'latitude': 41.376973, 'longitude': -71.831896}          [delivery]   \n",
       "5   {'latitude': 41.38028082416941, 'longitude': -...                  []   \n",
       "6   {'latitude': 41.38224759078481, 'longitude': -...          [delivery]   \n",
       "7   {'latitude': 41.3774172, 'longitude': -71.8331...  [delivery, pickup]   \n",
       "8    {'latitude': 41.3768699, 'longitude': -71.83311}          [delivery]   \n",
       "9      {'latitude': 41.37968, 'longitude': -71.83035}  [delivery, pickup]   \n",
       "10  {'latitude': 41.3721986185733, 'longitude': -7...          [delivery]   \n",
       "11     {'latitude': 41.36834, 'longitude': -71.81974}          [delivery]   \n",
       "12  {'latitude': 41.3835192242632, 'longitude': -7...          [delivery]   \n",
       "13   {'latitude': 41.379608, 'longitude': -71.830005}          [delivery]   \n",
       "14  {'latitude': 41.3639084, 'longitude': -71.8143...          [delivery]   \n",
       "15     {'latitude': 41.37975, 'longitude': -71.82959}                  []   \n",
       "16   {'latitude': 41.364714, 'longitude': -71.830466}  [delivery, pickup]   \n",
       "17   {'latitude': 41.380903, 'longitude': -71.829208}  [delivery, pickup]   \n",
       "18   {'latitude': 41.378394, 'longitude': -71.834768}          [delivery]   \n",
       "19     {'latitude': 41.37424, 'longitude': -71.82034}          [delivery]   \n",
       "\n",
       "   price                                           location         phone  \\\n",
       "0     $$  {'address1': '19 Margin St', 'address2': '', '...  +14013152520   \n",
       "1    NaN  {'address1': '127 Granite St', 'address2': Non...  +14019928223   \n",
       "2     $$  {'address1': '42 High St', 'address2': None, '...  +14013152184   \n",
       "3     $$  {'address1': '54 High St', 'address2': '', 'ad...  +14013155737   \n",
       "4     $$  {'address1': '37 Main St', 'address2': '', 'ad...  +14013489700   \n",
       "5     $$  {'address1': '15 Canal St', 'address2': '', 'a...  +14013888626   \n",
       "6    NaN  {'address1': '13 Industrial Dr', 'address2': N...  +14013480150   \n",
       "7     $$  {'address1': '1 W Broad St', 'address2': '', '...  +18605993840   \n",
       "8     $$  {'address1': '8 Mechanic St', 'address2': '', ...  +18605992034   \n",
       "9     $$  {'address1': '4 Canal St', 'address2': '', 'ad...  +14013488100   \n",
       "10     $  {'address1': '116 Granite St', 'address2': '',...  +14015969896   \n",
       "11    $$  {'address1': '157 Granite St', 'address2': '',...  +14015961001   \n",
       "12    $$  {'address1': '87 Oak St', 'address2': '', 'add...  +14015969559   \n",
       "13    $$  {'address1': '2 Canal St', 'address2': '', 'ad...  +14013155800   \n",
       "14    $$  {'address1': '62 Franklin St', 'address2': '',...  +14013486221   \n",
       "15   NaN  {'address1': '3 Canal St', 'address2': None, '...  +14013570300   \n",
       "16    $$  {'address1': '55 Beach St', 'address2': 'Ste 1...  +14013487036   \n",
       "17   NaN  {'address1': '23 Railroad Ave', 'address2': No...  +14016806221   \n",
       "18     $  {'address1': '22 Liberty St', 'address2': '', ...  +18605993380   \n",
       "19   $$$  {'address1': '2 Tower St', 'address2': None, '...  +14013150606   \n",
       "\n",
       "     display_phone     distance  \n",
       "0   (401) 315-2520  1722.989668  \n",
       "1   (401) 992-8223  2575.705237  \n",
       "2   (401) 315-2184  1645.153838  \n",
       "3   (401) 315-5737  1631.203716  \n",
       "4   (401) 348-9700  1502.652791  \n",
       "5   (401) 388-8626  1696.661533  \n",
       "6   (401) 348-0150  1681.655927  \n",
       "7   (860) 599-3840  1398.694610  \n",
       "8   (860) 599-2034  1400.935649  \n",
       "9   (401) 348-8100  1677.713257  \n",
       "10  (401) 596-9896  2552.675390  \n",
       "11  (401) 596-1001  2702.987120  \n",
       "12  (401) 596-9559  2960.902625  \n",
       "13  (401) 315-5800  1679.269915  \n",
       "14  (401) 348-6221  3321.787950  \n",
       "15  (401) 357-0300  1721.957051  \n",
       "16  (401) 348-7036  2143.543494  \n",
       "17  (401) 680-6221  1770.828390  \n",
       "18  (860) 599-3380  1268.133412  \n",
       "19  (401) 315-0606  2485.651513  "
      ]
     },
     "execution_count": 165,
     "metadata": {},
     "output_type": "execute_result"
    }
   ],
   "source": [
    "pd.DataFrame(results['businesses'])"
   ]
  },
  {
   "cell_type": "code",
   "execution_count": 166,
   "metadata": {},
   "outputs": [
    {
     "data": {
      "text/plain": [
       "True"
      ]
     },
     "execution_count": 166,
     "metadata": {},
     "output_type": "execute_result"
    }
   ],
   "source": [
    "os.path.isfile(JSON_FILE)"
   ]
  },
  {
   "cell_type": "code",
   "execution_count": 167,
   "metadata": {},
   "outputs": [
    {
     "name": "stdout",
     "output_type": "stream",
     "text": [
      "File already exists.\n"
     ]
    }
   ],
   "source": [
    "## Check if JSON_FILE exists\n",
    "if os.path.isfile(JSON_FILE)==False:\n",
    "## If it does not exist: \n",
    "    ## INFORM USER AND SAVE EMPTY LIST\n",
    "    print(\"The file does not exist. Creating empty file.\")\n",
    "       \n",
    "    ## save the first page of results\n",
    "    with open(JSON_FILE, 'w') as f:\n",
    "        json.dump(results['businesses'], f)\n",
    "        \n",
    "## If it exists, inform user\n",
    "else:\n",
    "    print('File already exists.')"
   ]
  },
  {
   "cell_type": "markdown",
   "metadata": {},
   "source": [
    "### Load JSON FIle and account for previous results"
   ]
  },
  {
   "cell_type": "code",
   "execution_count": 182,
   "metadata": {},
   "outputs": [
    {
     "ename": "ValueError",
     "evalue": "Expected object or value",
     "output_type": "error",
     "traceback": [
      "\u001b[1;31m---------------------------------------------------------------------------\u001b[0m",
      "\u001b[1;31mValueError\u001b[0m                                Traceback (most recent call last)",
      "\u001b[1;32m~\\AppData\\Local\\Temp\\ipykernel_21552\\2290562737.py\u001b[0m in \u001b[0;36m<module>\u001b[1;34m\u001b[0m\n\u001b[0;32m      1\u001b[0m \u001b[1;31m## Load previous results and use len of results for offset\u001b[0m\u001b[1;33m\u001b[0m\u001b[1;33m\u001b[0m\u001b[1;33m\u001b[0m\u001b[0m\n\u001b[1;32m----> 2\u001b[1;33m \u001b[0mprev_df\u001b[0m \u001b[1;33m=\u001b[0m \u001b[0mpd\u001b[0m\u001b[1;33m.\u001b[0m\u001b[0mread_json\u001b[0m\u001b[1;33m(\u001b[0m\u001b[0mJSON_FILE\u001b[0m\u001b[1;33m)\u001b[0m\u001b[1;33m\u001b[0m\u001b[1;33m\u001b[0m\u001b[0m\n\u001b[0m\u001b[0;32m      3\u001b[0m \u001b[0mprev_df\u001b[0m\u001b[1;33m\u001b[0m\u001b[1;33m\u001b[0m\u001b[0m\n\u001b[0;32m      4\u001b[0m \u001b[1;31m## set offset based on previous results\u001b[0m\u001b[1;33m\u001b[0m\u001b[1;33m\u001b[0m\u001b[1;33m\u001b[0m\u001b[0m\n",
      "\u001b[1;32m~\\anaconda3\\envs\\dojo-env\\lib\\site-packages\\pandas\\util\\_decorators.py\u001b[0m in \u001b[0;36mwrapper\u001b[1;34m(*args, **kwargs)\u001b[0m\n\u001b[0;32m    205\u001b[0m                 \u001b[1;32melse\u001b[0m\u001b[1;33m:\u001b[0m\u001b[1;33m\u001b[0m\u001b[1;33m\u001b[0m\u001b[0m\n\u001b[0;32m    206\u001b[0m                     \u001b[0mkwargs\u001b[0m\u001b[1;33m[\u001b[0m\u001b[0mnew_arg_name\u001b[0m\u001b[1;33m]\u001b[0m \u001b[1;33m=\u001b[0m \u001b[0mnew_arg_value\u001b[0m\u001b[1;33m\u001b[0m\u001b[1;33m\u001b[0m\u001b[0m\n\u001b[1;32m--> 207\u001b[1;33m             \u001b[1;32mreturn\u001b[0m \u001b[0mfunc\u001b[0m\u001b[1;33m(\u001b[0m\u001b[1;33m*\u001b[0m\u001b[0margs\u001b[0m\u001b[1;33m,\u001b[0m \u001b[1;33m**\u001b[0m\u001b[0mkwargs\u001b[0m\u001b[1;33m)\u001b[0m\u001b[1;33m\u001b[0m\u001b[1;33m\u001b[0m\u001b[0m\n\u001b[0m\u001b[0;32m    208\u001b[0m \u001b[1;33m\u001b[0m\u001b[0m\n\u001b[0;32m    209\u001b[0m         \u001b[1;32mreturn\u001b[0m \u001b[0mcast\u001b[0m\u001b[1;33m(\u001b[0m\u001b[0mF\u001b[0m\u001b[1;33m,\u001b[0m \u001b[0mwrapper\u001b[0m\u001b[1;33m)\u001b[0m\u001b[1;33m\u001b[0m\u001b[1;33m\u001b[0m\u001b[0m\n",
      "\u001b[1;32m~\\anaconda3\\envs\\dojo-env\\lib\\site-packages\\pandas\\util\\_decorators.py\u001b[0m in \u001b[0;36mwrapper\u001b[1;34m(*args, **kwargs)\u001b[0m\n\u001b[0;32m    309\u001b[0m                     \u001b[0mstacklevel\u001b[0m\u001b[1;33m=\u001b[0m\u001b[0mstacklevel\u001b[0m\u001b[1;33m,\u001b[0m\u001b[1;33m\u001b[0m\u001b[1;33m\u001b[0m\u001b[0m\n\u001b[0;32m    310\u001b[0m                 )\n\u001b[1;32m--> 311\u001b[1;33m             \u001b[1;32mreturn\u001b[0m \u001b[0mfunc\u001b[0m\u001b[1;33m(\u001b[0m\u001b[1;33m*\u001b[0m\u001b[0margs\u001b[0m\u001b[1;33m,\u001b[0m \u001b[1;33m**\u001b[0m\u001b[0mkwargs\u001b[0m\u001b[1;33m)\u001b[0m\u001b[1;33m\u001b[0m\u001b[1;33m\u001b[0m\u001b[0m\n\u001b[0m\u001b[0;32m    312\u001b[0m \u001b[1;33m\u001b[0m\u001b[0m\n\u001b[0;32m    313\u001b[0m         \u001b[1;32mreturn\u001b[0m \u001b[0mwrapper\u001b[0m\u001b[1;33m\u001b[0m\u001b[1;33m\u001b[0m\u001b[0m\n",
      "\u001b[1;32m~\\anaconda3\\envs\\dojo-env\\lib\\site-packages\\pandas\\io\\json\\_json.py\u001b[0m in \u001b[0;36mread_json\u001b[1;34m(path_or_buf, orient, typ, dtype, convert_axes, convert_dates, keep_default_dates, numpy, precise_float, date_unit, encoding, encoding_errors, lines, chunksize, compression, nrows, storage_options)\u001b[0m\n\u001b[0;32m    612\u001b[0m \u001b[1;33m\u001b[0m\u001b[0m\n\u001b[0;32m    613\u001b[0m     \u001b[1;32mwith\u001b[0m \u001b[0mjson_reader\u001b[0m\u001b[1;33m:\u001b[0m\u001b[1;33m\u001b[0m\u001b[1;33m\u001b[0m\u001b[0m\n\u001b[1;32m--> 614\u001b[1;33m         \u001b[1;32mreturn\u001b[0m \u001b[0mjson_reader\u001b[0m\u001b[1;33m.\u001b[0m\u001b[0mread\u001b[0m\u001b[1;33m(\u001b[0m\u001b[1;33m)\u001b[0m\u001b[1;33m\u001b[0m\u001b[1;33m\u001b[0m\u001b[0m\n\u001b[0m\u001b[0;32m    615\u001b[0m \u001b[1;33m\u001b[0m\u001b[0m\n\u001b[0;32m    616\u001b[0m \u001b[1;33m\u001b[0m\u001b[0m\n",
      "\u001b[1;32m~\\anaconda3\\envs\\dojo-env\\lib\\site-packages\\pandas\\io\\json\\_json.py\u001b[0m in \u001b[0;36mread\u001b[1;34m(self)\u001b[0m\n\u001b[0;32m    746\u001b[0m                 \u001b[0mobj\u001b[0m \u001b[1;33m=\u001b[0m \u001b[0mself\u001b[0m\u001b[1;33m.\u001b[0m\u001b[0m_get_object_parser\u001b[0m\u001b[1;33m(\u001b[0m\u001b[0mself\u001b[0m\u001b[1;33m.\u001b[0m\u001b[0m_combine_lines\u001b[0m\u001b[1;33m(\u001b[0m\u001b[0mdata_lines\u001b[0m\u001b[1;33m)\u001b[0m\u001b[1;33m)\u001b[0m\u001b[1;33m\u001b[0m\u001b[1;33m\u001b[0m\u001b[0m\n\u001b[0;32m    747\u001b[0m         \u001b[1;32melse\u001b[0m\u001b[1;33m:\u001b[0m\u001b[1;33m\u001b[0m\u001b[1;33m\u001b[0m\u001b[0m\n\u001b[1;32m--> 748\u001b[1;33m             \u001b[0mobj\u001b[0m \u001b[1;33m=\u001b[0m \u001b[0mself\u001b[0m\u001b[1;33m.\u001b[0m\u001b[0m_get_object_parser\u001b[0m\u001b[1;33m(\u001b[0m\u001b[0mself\u001b[0m\u001b[1;33m.\u001b[0m\u001b[0mdata\u001b[0m\u001b[1;33m)\u001b[0m\u001b[1;33m\u001b[0m\u001b[1;33m\u001b[0m\u001b[0m\n\u001b[0m\u001b[0;32m    749\u001b[0m         \u001b[0mself\u001b[0m\u001b[1;33m.\u001b[0m\u001b[0mclose\u001b[0m\u001b[1;33m(\u001b[0m\u001b[1;33m)\u001b[0m\u001b[1;33m\u001b[0m\u001b[1;33m\u001b[0m\u001b[0m\n\u001b[0;32m    750\u001b[0m         \u001b[1;32mreturn\u001b[0m \u001b[0mobj\u001b[0m\u001b[1;33m\u001b[0m\u001b[1;33m\u001b[0m\u001b[0m\n",
      "\u001b[1;32m~\\anaconda3\\envs\\dojo-env\\lib\\site-packages\\pandas\\io\\json\\_json.py\u001b[0m in \u001b[0;36m_get_object_parser\u001b[1;34m(self, json)\u001b[0m\n\u001b[0;32m    768\u001b[0m         \u001b[0mobj\u001b[0m \u001b[1;33m=\u001b[0m \u001b[1;32mNone\u001b[0m\u001b[1;33m\u001b[0m\u001b[1;33m\u001b[0m\u001b[0m\n\u001b[0;32m    769\u001b[0m         \u001b[1;32mif\u001b[0m \u001b[0mtyp\u001b[0m \u001b[1;33m==\u001b[0m \u001b[1;34m\"frame\"\u001b[0m\u001b[1;33m:\u001b[0m\u001b[1;33m\u001b[0m\u001b[1;33m\u001b[0m\u001b[0m\n\u001b[1;32m--> 770\u001b[1;33m             \u001b[0mobj\u001b[0m \u001b[1;33m=\u001b[0m \u001b[0mFrameParser\u001b[0m\u001b[1;33m(\u001b[0m\u001b[0mjson\u001b[0m\u001b[1;33m,\u001b[0m \u001b[1;33m**\u001b[0m\u001b[0mkwargs\u001b[0m\u001b[1;33m)\u001b[0m\u001b[1;33m.\u001b[0m\u001b[0mparse\u001b[0m\u001b[1;33m(\u001b[0m\u001b[1;33m)\u001b[0m\u001b[1;33m\u001b[0m\u001b[1;33m\u001b[0m\u001b[0m\n\u001b[0m\u001b[0;32m    771\u001b[0m \u001b[1;33m\u001b[0m\u001b[0m\n\u001b[0;32m    772\u001b[0m         \u001b[1;32mif\u001b[0m \u001b[0mtyp\u001b[0m \u001b[1;33m==\u001b[0m \u001b[1;34m\"series\"\u001b[0m \u001b[1;32mor\u001b[0m \u001b[0mobj\u001b[0m \u001b[1;32mis\u001b[0m \u001b[1;32mNone\u001b[0m\u001b[1;33m:\u001b[0m\u001b[1;33m\u001b[0m\u001b[1;33m\u001b[0m\u001b[0m\n",
      "\u001b[1;32m~\\anaconda3\\envs\\dojo-env\\lib\\site-packages\\pandas\\io\\json\\_json.py\u001b[0m in \u001b[0;36mparse\u001b[1;34m(self)\u001b[0m\n\u001b[0;32m    883\u001b[0m \u001b[1;33m\u001b[0m\u001b[0m\n\u001b[0;32m    884\u001b[0m         \u001b[1;32melse\u001b[0m\u001b[1;33m:\u001b[0m\u001b[1;33m\u001b[0m\u001b[1;33m\u001b[0m\u001b[0m\n\u001b[1;32m--> 885\u001b[1;33m             \u001b[0mself\u001b[0m\u001b[1;33m.\u001b[0m\u001b[0m_parse_no_numpy\u001b[0m\u001b[1;33m(\u001b[0m\u001b[1;33m)\u001b[0m\u001b[1;33m\u001b[0m\u001b[1;33m\u001b[0m\u001b[0m\n\u001b[0m\u001b[0;32m    886\u001b[0m \u001b[1;33m\u001b[0m\u001b[0m\n\u001b[0;32m    887\u001b[0m         \u001b[1;32mif\u001b[0m \u001b[0mself\u001b[0m\u001b[1;33m.\u001b[0m\u001b[0mobj\u001b[0m \u001b[1;32mis\u001b[0m \u001b[1;32mNone\u001b[0m\u001b[1;33m:\u001b[0m\u001b[1;33m\u001b[0m\u001b[1;33m\u001b[0m\u001b[0m\n",
      "\u001b[1;32m~\\anaconda3\\envs\\dojo-env\\lib\\site-packages\\pandas\\io\\json\\_json.py\u001b[0m in \u001b[0;36m_parse_no_numpy\u001b[1;34m(self)\u001b[0m\n\u001b[0;32m   1138\u001b[0m         \u001b[1;32mif\u001b[0m \u001b[0morient\u001b[0m \u001b[1;33m==\u001b[0m \u001b[1;34m\"columns\"\u001b[0m\u001b[1;33m:\u001b[0m\u001b[1;33m\u001b[0m\u001b[1;33m\u001b[0m\u001b[0m\n\u001b[0;32m   1139\u001b[0m             self.obj = DataFrame(\n\u001b[1;32m-> 1140\u001b[1;33m                 \u001b[0mloads\u001b[0m\u001b[1;33m(\u001b[0m\u001b[0mjson\u001b[0m\u001b[1;33m,\u001b[0m \u001b[0mprecise_float\u001b[0m\u001b[1;33m=\u001b[0m\u001b[0mself\u001b[0m\u001b[1;33m.\u001b[0m\u001b[0mprecise_float\u001b[0m\u001b[1;33m)\u001b[0m\u001b[1;33m,\u001b[0m \u001b[0mdtype\u001b[0m\u001b[1;33m=\u001b[0m\u001b[1;32mNone\u001b[0m\u001b[1;33m\u001b[0m\u001b[1;33m\u001b[0m\u001b[0m\n\u001b[0m\u001b[0;32m   1141\u001b[0m             )\n\u001b[0;32m   1142\u001b[0m         \u001b[1;32melif\u001b[0m \u001b[0morient\u001b[0m \u001b[1;33m==\u001b[0m \u001b[1;34m\"split\"\u001b[0m\u001b[1;33m:\u001b[0m\u001b[1;33m\u001b[0m\u001b[1;33m\u001b[0m\u001b[0m\n",
      "\u001b[1;31mValueError\u001b[0m: Expected object or value"
     ]
    }
   ],
   "source": [
    "## Load previous results and use len of results for offset\n",
    "prev_df = pd.read_json(JSON_FILE)\n",
    "prev_df\n",
    "## set offset based on previous results\n"
   ]
  },
  {
   "cell_type": "markdown",
   "metadata": {},
   "source": [
    "### Make the first API call to get the first page of data"
   ]
  },
  {
   "cell_type": "markdown",
   "metadata": {},
   "source": [
    "- We will use this first result to check:\n",
    "    - how many total results there are?\n",
    "    - Where is the actual data we want to save?\n",
    "    - how many results do we get at a time?\n"
   ]
  },
  {
   "cell_type": "code",
   "execution_count": 169,
   "metadata": {},
   "outputs": [],
   "source": [
    "# use our yelp_api variable's search_query method to perform our API call\n"
   ]
  },
  {
   "cell_type": "code",
   "execution_count": 170,
   "metadata": {
    "ExecuteTime": {
     "end_time": "2022-03-24T20:01:48.867510Z",
     "start_time": "2022-03-24T20:01:48.854746Z"
    },
    "colab": {
     "base_uri": "https://localhost:8080/"
    },
    "id": "Myur3i1KGhPf",
    "outputId": "f447c6f9-596b-41d0-ccda-50af0ce82108"
   },
   "outputs": [],
   "source": [
    "## How many results total?\n"
   ]
  },
  {
   "cell_type": "markdown",
   "metadata": {},
   "source": [
    "- Where is the actual data we want to save?"
   ]
  },
  {
   "cell_type": "code",
   "execution_count": null,
   "metadata": {},
   "outputs": [],
   "source": []
  },
  {
   "cell_type": "code",
   "execution_count": 171,
   "metadata": {},
   "outputs": [],
   "source": [
    "## How many did we get the details for?\n",
    "results_per_page = None\n",
    "results_per_page"
   ]
  },
  {
   "cell_type": "markdown",
   "metadata": {},
   "source": [
    "- Calculate how many pages of results needed to cover the total_results"
   ]
  },
  {
   "cell_type": "code",
   "execution_count": 172,
   "metadata": {},
   "outputs": [],
   "source": [
    "# Use math.ceil to round up for the total number of pages of results.\n"
   ]
  },
  {
   "cell_type": "code",
   "execution_count": 173,
   "metadata": {},
   "outputs": [
    {
     "ename": "SyntaxError",
     "evalue": "unexpected EOF while parsing (2903188637.py, line 20)",
     "output_type": "error",
     "traceback": [
      "\u001b[1;36m  File \u001b[1;32m\"C:\\Users\\LP-Ca\\AppData\\Local\\Temp\\ipykernel_21552\\2903188637.py\"\u001b[1;36m, line \u001b[1;32m20\u001b[0m\n\u001b[1;33m    \u001b[0m\n\u001b[1;37m    ^\u001b[0m\n\u001b[1;31mSyntaxError\u001b[0m\u001b[1;31m:\u001b[0m unexpected EOF while parsing\n"
     ]
    }
   ],
   "source": [
    "for i in tqdm_notebook( range(1,n_pages+1)):\n",
    "    ## The block of code we want to TRY to run\n",
    "        \n",
    "        \n",
    "        ## Read in results in progress file and check the length\n",
    "\n",
    "        \n",
    "        ## save number of results for to use as offset\n",
    "        \n",
    "        \n",
    "        \n",
    "        ## use n_results as the OFFSET \n",
    "        \n",
    "\n",
    "        ## append new results and save to file\n",
    "        \n",
    "\n",
    "            \n",
    "    ## What to do if we get an error/exception.\n",
    "        \n"
   ]
  },
  {
   "cell_type": "markdown",
   "metadata": {},
   "source": [
    "## Open the Final JSON File with Pandas"
   ]
  },
  {
   "cell_type": "code",
   "execution_count": null,
   "metadata": {},
   "outputs": [],
   "source": [
    "df = None"
   ]
  },
  {
   "cell_type": "code",
   "execution_count": null,
   "metadata": {},
   "outputs": [],
   "source": [
    "## convert the filename to a .csv.gz\n",
    "csv_file = JSON_FILE.replace('.json','.csv.gz')\n",
    "csv_file"
   ]
  },
  {
   "cell_type": "code",
   "execution_count": null,
   "metadata": {},
   "outputs": [],
   "source": [
    "## Save it as a compressed csv (to save space)\n"
   ]
  },
  {
   "cell_type": "markdown",
   "metadata": {},
   "source": [
    "## Bonus: compare filesize with os module's `os.path.getsize`"
   ]
  },
  {
   "cell_type": "code",
   "execution_count": null,
   "metadata": {},
   "outputs": [],
   "source": [
    "size_json = os.path.getsize(JSON_FILE)\n",
    "size_csv_gz = os.path.getsize(JSON_FILE.replace('.json','.csv.gz'))\n",
    "\n",
    "print(f'JSON FILE: {size_json:,} Bytes')\n",
    "print(f'CSV.GZ FILE: {size_csv_gz:,} Bytes')\n",
    "\n",
    "print(f'the csv.gz is {size_json/size_csv_gz} times smaller!')"
   ]
  },
  {
   "cell_type": "markdown",
   "metadata": {},
   "source": [
    "## Next Class: Processing the Results and Mapping "
   ]
  }
 ],
 "metadata": {
  "colab": {
   "collapsed_sections": [],
   "name": "Test Yelp API Package.ipynb",
   "provenance": []
  },
  "kernelspec": {
   "display_name": "Python (dojo-env)",
   "language": "python",
   "name": "dojo-env"
  },
  "language_info": {
   "codemirror_mode": {
    "name": "ipython",
    "version": 3
   },
   "file_extension": ".py",
   "mimetype": "text/x-python",
   "name": "python",
   "nbconvert_exporter": "python",
   "pygments_lexer": "ipython3",
   "version": "3.7.12"
  },
  "toc": {
   "base_numbering": 1,
   "nav_menu": {},
   "number_sections": false,
   "sideBar": true,
   "skip_h1_title": false,
   "title_cell": "Table of Contents",
   "title_sidebar": "Contents",
   "toc_cell": false,
   "toc_position": {
    "height": "calc(100% - 180px)",
    "left": "10px",
    "top": "150px",
    "width": "165px"
   },
   "toc_section_display": true,
   "toc_window_display": false
  }
 },
 "nbformat": 4,
 "nbformat_minor": 1
}
